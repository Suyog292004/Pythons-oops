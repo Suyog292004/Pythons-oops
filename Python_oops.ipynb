{
  "nbformat": 4,
  "nbformat_minor": 0,
  "metadata": {
    "colab": {
      "provenance": []
    },
    "kernelspec": {
      "name": "python3",
      "display_name": "Python 3"
    },
    "language_info": {
      "name": "python"
    }
  },
  "cells": [
    {
      "cell_type": "markdown",
      "source": [
        "1.What is Object-Oriented Programming (OOP)\n",
        "- object-oriented programming (OOP) is a programming paradigm that organizes software design around objects rather than functions or logic\n",
        "- Objects are instances of classes, which can contain data and methods that operate on that data"
      ],
      "metadata": {
        "id": "fM4M5ibis26U"
      }
    },
    {
      "cell_type": "markdown",
      "source": [
        "2.What is a class in OOP\n",
        "- A class in object-oriented programming is a blueprint or template for creating objects\n",
        "- It defines a set of attributes and methods that the objects created from the class will have"
      ],
      "metadata": {
        "id": "BOBBBWNUtVs4"
      }
    },
    {
      "cell_type": "markdown",
      "source": [
        "3.What is an object in OOP\n",
        "- An object in object-Oriented Programming is an instance of a class\n",
        "- It is a self-contained entity that contains data and methods defined by its class"
      ],
      "metadata": {
        "id": "pKpOw7AcuZF0"
      }
    },
    {
      "cell_type": "markdown",
      "source": [
        "4.What is the difference between abstraction and encapsulation\n",
        "- abstraction Hides implementation complexity. You just call drive() without worrying about how the car actually works internally\n",
        "- encapsulation Hides data by making attributes private and providing controlled access through methods like get_brand() and set_brand()"
      ],
      "metadata": {
        "id": "Pg85Bbdru0K6"
      }
    },
    {
      "cell_type": "markdown",
      "source": [
        "5.What are dunder methods in Python\n",
        "- python are special methods that have names starting and ending with double underscores (__)  \n",
        "- They are also called magic methods because they enable objects to have special behaviors\n",
        "                                                    "
      ],
      "metadata": {
        "id": "glIs-PgHvRiU"
      }
    },
    {
      "cell_type": "markdown",
      "source": [
        "6.Explain the concept of inheritance in OOP\n",
        "- inheritance in object-oriented programming is a mechanism that allows one class  to inherit attributes and methods from another class  It promotes code reusability, scalability, and maintainability\n"
      ],
      "metadata": {
        "id": "8DbWEDluvuw5"
      }
    },
    {
      "cell_type": "markdown",
      "source": [
        "7.What is polymorphism in OOP\n",
        "- polymorphism in object-Oriented programming is the ability of objects of different classes to be treated as instances of the same superclass\n",
        "- It allows the same operation to behave differently on different classes"
      ],
      "metadata": {
        "id": "XZpErQnQwOhH"
      }
    },
    {
      "cell_type": "markdown",
      "source": [
        "8.How is encapsulation achieved in Python\n",
        "-  encapsulation in Python is the process of restricting access to certain attributes and methods of a class to prevent accidental modification or misuse\n",
        "- It is achieved by making attributes private and providing public methods to access or modify them"
      ],
      "metadata": {
        "id": "YmHVrTW5wjQR"
      }
    },
    {
      "cell_type": "markdown",
      "source": [
        "9.What is a constructor in Python\n",
        "- constructor in python is a special method that is automatically called when an object is created from a class\n",
        "- It is primarily used to initialize the attributes (properties) of a class"
      ],
      "metadata": {
        "id": "CECu28kXxeMM"
      }
    },
    {
      "cell_type": "markdown",
      "source": [
        "10.What are class and static methods in Python\n",
        "- class methods and static Methods are special types of methods in Python that differ from regular instance methods\n",
        "- they are defined using the classmethod and staticmethod decorators, respectively"
      ],
      "metadata": {
        "id": "KRbyWcR1y8sx"
      }
    },
    {
      "cell_type": "markdown",
      "source": [
        "11.What is method overloading in Python\n",
        "- method overloading in Python refers to having multiple methods in the same class with the same name but different parameters\n",
        "- it is a way to implement compile-time polymorphism"
      ],
      "metadata": {
        "id": "ZA2xbVcAzNAS"
      }
    },
    {
      "cell_type": "markdown",
      "source": [
        "12.What is method overriding in OOP\n",
        "- method overriding in Object-Oriented Programming (OOP) is a feature that allows a child class to provide a specific implementation of a method that is already defined in its parent class\n",
        "- this enables runtime polymorphism and provides the ability to define methods that behave differently for different subclasses"
      ],
      "metadata": {
        "id": "9pKofEetzdjN"
      }
    },
    {
      "cell_type": "markdown",
      "source": [
        "13.What is a property decorator in Python\n",
        "- when you override a method in a child class, the method resolution is not decided at compile-time but at runtime\n",
        "- the type of the object determines which method implementation will be called"
      ],
      "metadata": {
        "id": "XWBq891ez6zd"
      }
    },
    {
      "cell_type": "markdown",
      "source": [
        "14.Why is polymorphism important in OOP\n",
        "- polymorphism is a fundamental concept in OOP that allows objects of different classes to be treated as objects of a common parent class\n",
        "-  It enables a single interface to represent different underlying forms"
      ],
      "metadata": {
        "id": "FIfhacbR1AaN"
      }
    },
    {
      "cell_type": "markdown",
      "source": [
        "15.What is an abstract class in Python\n",
        "- abstract class in python is a blueprint for other classes it cannot be instantiated directly and often includes one or more abstract methods that must be implemented by subclasses\n",
        "- An abstract class in Python is a class that cannot be instantiated directly"
      ],
      "metadata": {
        "id": "mc8Eap8Q1eTx"
      }
    },
    {
      "cell_type": "markdown",
      "source": [
        "16.What are the advantages of OOP\n",
        "- the advantages of object-oriented Programming are numerous, making it a popular paradigm for designing and building software systems. Here are the key benefits\n"
      ],
      "metadata": {
        "id": "dCrfsrYROTsw"
      }
    },
    {
      "cell_type": "markdown",
      "source": [
        "17.What is the difference between a class variable and an instance variable\n",
        "- directly within a class but outside any instance methods, across all instances of the class. Changing it via the class name affects all instances\n",
        "- Inside methods, typically within the init () constructor using self, to each instance of the class changes to one instance do not affect others"
      ],
      "metadata": {
        "id": "SDDbt_U7OuMQ"
      }
    },
    {
      "cell_type": "markdown",
      "source": [
        "18.What is multiple inheritance in python\n",
        "- multiple inheritance is a feature in Python where a class can inherit from more than one parent class. This allows a child class to acquire properties and methods from multiple classes"
      ],
      "metadata": {
        "id": "8m3HKErHPhFy"
      }
    },
    {
      "cell_type": "markdown",
      "source": [
        "19.Explain the purpose of str and repr methods in Python\n",
        "- both str() and repr() are special methods used to provide a string representation of an object they are called when you try to print an object or inspect it in the console\n"
      ],
      "metadata": {
        "id": "ZrpRhIrrP3b5"
      }
    },
    {
      "cell_type": "markdown",
      "source": [
        "20.What is the significance of the ‘super()’ function in python\n",
        "- the super() function is used to call a method from a parent or superclass it is especially useful in inheritance and allows us to access methods and properties of a parent class without hardcoding the parent class name"
      ],
      "metadata": {
        "id": "zIpINxpqQa2P"
      }
    },
    {
      "cell_type": "markdown",
      "source": [
        "21.What is the significance of the __del__ method in Python\n",
        "- the del () method is a special method known as the destructor. It is called when an object is about to be destroyed, and its main purpose is to perform cleanup actions, such as\n",
        "- ensuring cleanup of resources not handled by garbage collection"
      ],
      "metadata": {
        "id": "mpTNhvq5QhrY"
      }
    },
    {
      "cell_type": "markdown",
      "source": [
        "22.What is the difference between @staticmethod and @classmethod in Python\n",
        "- before delving into @staticmethod and @classmethod, it's essential to understand instance methods these are the most common type of methods in Python classes and have access to individual object instances through the self paramete\n",
        "- Instance methods can modify object-specific attributes and access other instance-level data"
      ],
      "metadata": {
        "id": "TmbzuPhyRlpS"
      }
    },
    {
      "cell_type": "markdown",
      "source": [
        "23.How does polymorphism work in Python with inheritance\n",
        "- polymorphism is a fundamental concept in object-oriented programming (OOP) that allows objects of different classes to respond to the same method call in ways specific to their class implementations\n",
        "- in python, polymorphism enables a single interface to control access to a variety of underlying data types, promoting flexibility and integration within the codebase"
      ],
      "metadata": {
        "id": "tlOaILWhSHz-"
      }
    },
    {
      "cell_type": "markdown",
      "source": [
        "24.What is method chaining in Python OOP\n",
        "- method chaining is a technique in object-oriented programming where multiple methods are called on the same object in a single line of code. Each method returns the object itself (self), allowing successive calls to be made directly"
      ],
      "metadata": {
        "id": "OkYmadf0Sxqp"
      }
    },
    {
      "cell_type": "markdown",
      "source": [
        "25.What is the purpose of the __call__ method in Python\n",
        "- the call () method is a special or magic method in Python that allows an instance of a class to be called as if it were a function\n",
        "- When you define the call () method in your class, you can use objects of that class like functions"
      ],
      "metadata": {
        "id": "2iPoqPogTJKd"
      }
    },
    {
      "cell_type": "markdown",
      "source": [
        "# Practical Question"
      ],
      "metadata": {
        "id": "yo4p9qYd4z4v"
      }
    },
    {
      "cell_type": "code",
      "source": [
        "#1.Create a parent class Animal with a method speak() that prints a generic message. Create a child class Dog\n",
        "# that overrides the speak() method to print \"Bark!\"\n",
        "class Animal:\n",
        "    def speak(self):\n",
        "        print(\"The animal makes a sound.\")\n",
        "class Dog(Animal):\n",
        "    def speak(self):\n",
        "        print(\"Bark!\")\n",
        "animal = Animal()\n",
        "animal.speak()\n",
        "dog = Dog()\n",
        "dog.speak()\n",
        "\n"
      ],
      "metadata": {
        "colab": {
          "base_uri": "https://localhost:8080/"
        },
        "id": "RkpccuJq5B0L",
        "outputId": "0128a456-01c8-448c-98fe-4181cd61988e"
      },
      "execution_count": 15,
      "outputs": [
        {
          "output_type": "stream",
          "name": "stdout",
          "text": [
            "The animal makes a sound.\n",
            "Bark!\n"
          ]
        }
      ]
    },
    {
      "cell_type": "code",
      "source": [
        "#2.Write a program to create an abstract class Shape with a method area(). Derive classes Circle and Rectangle\n",
        "# from it and implement the area() method in both\n",
        "import math\n",
        "class Shape:\n",
        "    def area(self):\n",
        "        pass\n",
        "class Circle(Shape):\n",
        "    def __init__(self, radius):\n",
        "        self.radius = radius\n",
        "    def area(self):\n",
        "        return math.pi * self.radius * self.radius\n",
        "class Rectangle(Shape):\n",
        "    def __init__(self, length, breadth):\n",
        "        self.length = length\n",
        "        self.breadth = breadth\n",
        "    def area(self):\n",
        "        return self.length * self.breadth\n",
        "circle = Circle(5)\n",
        "rectangle = Rectangle(4, 6)\n",
        "print(\"Area of Circle:\", round(circle.area(), 2))\n",
        "print(\"Area of Rectangle:\", rectangle.area())"
      ],
      "metadata": {
        "colab": {
          "base_uri": "https://localhost:8080/"
        },
        "id": "FYCKB5iH8VBz",
        "outputId": "df3cf147-88a8-4bdf-b075-a6ce3e09525a"
      },
      "execution_count": 29,
      "outputs": [
        {
          "output_type": "stream",
          "name": "stdout",
          "text": [
            "Area of Circle: 78.54\n",
            "Area of Rectangle: 24\n"
          ]
        }
      ]
    },
    {
      "cell_type": "code",
      "source": [
        "#3.Implement a multi-level inheritance scenario where a class Vehicle has an attribute type. Derive a class Car\n",
        "# and further derive a class ElectricCar that adds a battery attribute\n",
        "class Vehicle:\n",
        "    def __init__(self, vehicle_type):\n",
        "        self.type = vehicle_type\n",
        "class Car(Vehicle):\n",
        "    def __init__(self, vehicle_type, brand):\n",
        "        super().__init__(vehicle_type)\n",
        "        self.brand = brand\n",
        "class ElectricCar(Car):\n",
        "    def __init__(self, vehicle_type, brand, battery_capacity):\n",
        "        super().__init__(vehicle_type, brand)\n",
        "        self.battery = battery_capacity\n",
        "tesla = ElectricCar(\"Electric\", \"Tesla\", 100)\n",
        "print(f\"Vehicle Type: {tesla.type}\")\n",
        "print(f\"Car Brand: {tesla.brand}\")\n",
        "print(f\"Battery Capacity: {tesla.battery} kWh\")"
      ],
      "metadata": {
        "colab": {
          "base_uri": "https://localhost:8080/"
        },
        "id": "Kfw1yxjG_kH9",
        "outputId": "f4dafc2d-16f6-4723-c877-c4b44d30866d"
      },
      "execution_count": 30,
      "outputs": [
        {
          "output_type": "stream",
          "name": "stdout",
          "text": [
            "Vehicle Type: Electric\n",
            "Car Brand: Tesla\n",
            "Battery Capacity: 100 kWh\n"
          ]
        }
      ]
    },
    {
      "cell_type": "code",
      "source": [
        "#4.Demonstrate polymorphism by creating a base class Bird with a method fly(). Create two derived classes\n",
        "# Sparrow and Penguin that override the fly() method\n",
        "class Bird:\n",
        "    def fly(self):\n",
        "        print(\"Bird is flying\")\n",
        "class Sparrow(Bird):\n",
        "    def fly(self):\n",
        "        print(\"Sparrow flies high in the sky\")\n",
        "class Penguin(Bird):\n",
        "    def fly(self):\n",
        "        print(\"Penguins cannot fly, but they swim well\")\n",
        "def demonstrate_flying(bird):\n",
        "    bird.fly()\n",
        "sparrow = Sparrow()\n",
        "penguin = Penguin()\n",
        "demonstrate_flying(sparrow)   # Output: Sparrow flies high in the sky\n",
        "demonstrate_flying(penguin)"
      ],
      "metadata": {
        "colab": {
          "base_uri": "https://localhost:8080/"
        },
        "id": "620jYp2GABjM",
        "outputId": "f2440882-fcf6-4ba6-87c3-309ccfa5d791"
      },
      "execution_count": 31,
      "outputs": [
        {
          "output_type": "stream",
          "name": "stdout",
          "text": [
            "Sparrow flies high in the sky\n",
            "Penguins cannot fly, but they swim well\n"
          ]
        }
      ]
    },
    {
      "cell_type": "code",
      "source": [
        "#5.Write a program to demonstrate encapsulation by creating a class BankAccount with private attributes\n",
        "# balance and methods to deposit, withdraw, and check balance\n",
        "class BankAccount:\n",
        "    def __init__(self, initial_balance=0):\n",
        "        self.__balance = initial_balance\n",
        "    def deposit(self, amount):\n",
        "        if amount > 0:\n",
        "            self.__balance += amount\n",
        "            print(f\"Deposited: ${amount}\")\n",
        "        else:\n",
        "            print(\"Deposit amount must be positive.\")\n",
        "    def withdraw(self, amount):\n",
        "        if 0 < amount <= self.__balance:\n",
        "            self.__balance -= amount\n",
        "            print(f\"Withdrawn: ${amount}\")\n",
        "        else:\n",
        "            print(\"Insufficient balance or invalid amount.\")\n",
        "    def check_balance(self):\n",
        "        return self.__balance\n",
        "account = BankAccount(1000)\n",
        "account.deposit(500)\n",
        "account.withdraw(200)\n",
        "print(f\"Current Balance: ${account.check_balance()}\")\n"
      ],
      "metadata": {
        "colab": {
          "base_uri": "https://localhost:8080/"
        },
        "id": "-FpBENyYAfmJ",
        "outputId": "28321650-0104-4871-9ba0-66d9b1a316cb"
      },
      "execution_count": 32,
      "outputs": [
        {
          "output_type": "stream",
          "name": "stdout",
          "text": [
            "Deposited: $500\n",
            "Withdrawn: $200\n",
            "Current Balance: $1300\n"
          ]
        }
      ]
    },
    {
      "cell_type": "code",
      "source": [
        "#6.Demonstrate runtime polymorphism using a method play() in a base class Instrument. Derive classes Guitar\n",
        "# and Piano that implement their own version of play()\n",
        "class Instrument:\n",
        "    def play(self):\n",
        "        print(\"Playing an instrument\")\n",
        "class Guitar(Instrument):\n",
        "    def play(self):\n",
        "        print(\"Strumming the guitar\")\n",
        "class Piano(Instrument):\n",
        "    def play(self):\n",
        "        print(\"Playing the piano keys\")\n",
        "def start_playing(instrument):\n",
        "    instrument.play()  # Calls the appropriate play() method based on the object type at runtime\n",
        "guitar = Guitar()\n",
        "piano = Piano()\n",
        "start_playing(guitar)   # Output: Strumming the guitar\n",
        "start_playing(piano)"
      ],
      "metadata": {
        "colab": {
          "base_uri": "https://localhost:8080/"
        },
        "id": "s529K5tJA8YH",
        "outputId": "ea65bd4d-9668-40a4-b9f8-8c19ba07dcf4"
      },
      "execution_count": 35,
      "outputs": [
        {
          "output_type": "stream",
          "name": "stdout",
          "text": [
            "Strumming the guitar\n",
            "Playing the piano keys\n"
          ]
        }
      ]
    },
    {
      "cell_type": "code",
      "source": [
        "#7.Create a class MathOperations with a class method add_numbers() to add two numbers and a static\n",
        "# method subtract_numbers() to subtract two numbers\n",
        "class MathOperations:\n",
        "    @classmethod\n",
        "    def add_numbers(cls, a, b):\n",
        "        return a + b\n",
        "    @staticmethod\n",
        "    def subtract_numbers(a, b):\n",
        "        return a - b\n",
        "result_add = MathOperations.add_numbers(10, 5)\n",
        "print(f\"Addition Result: {result_add}\")  # Output: 15\n",
        "result_subtract = MathOperations.subtract_numbers(10, 5)\n",
        "print(f\"Subtraction Result: {result_subtract}\")"
      ],
      "metadata": {
        "colab": {
          "base_uri": "https://localhost:8080/"
        },
        "id": "MRzXbuWkBc8N",
        "outputId": "cd8d31b9-34fc-4d85-f9f8-0e42db79aff7"
      },
      "execution_count": 36,
      "outputs": [
        {
          "output_type": "stream",
          "name": "stdout",
          "text": [
            "Addition Result: 15\n",
            "Subtraction Result: 5\n"
          ]
        }
      ]
    },
    {
      "cell_type": "code",
      "source": [
        "#8.Implement a class Person with a class method to count the total number of persons created\n",
        "class Person:\n",
        "    # Class variable to count the number of persons created\n",
        "    person_count = 0\n",
        "    def __init__(self, name):\n",
        "        self.name = name\n",
        "        Person.increment_count()  # Increment the count whenever a new person is created\n",
        "    @classmethod\n",
        "    def increment_count(cls):\n",
        "        cls.person_count += 1\n",
        "    @classmethod\n",
        "    def get_person_count(cls):\n",
        "        return cls.person_count\n",
        "p1 = Person(\"Alice\")\n",
        "p2 = Person(\"Bob\")\n",
        "p3 = Person(\"Charlie\")\n",
        "print(f\"Total persons created:{Person.get_person_count()}\")"
      ],
      "metadata": {
        "colab": {
          "base_uri": "https://localhost:8080/"
        },
        "id": "U-A5EswwB0sy",
        "outputId": "e2918ec9-ca5e-462c-cbad-5bfd4202af2f"
      },
      "execution_count": 38,
      "outputs": [
        {
          "output_type": "stream",
          "name": "stdout",
          "text": [
            "Total persons created:3\n"
          ]
        }
      ]
    },
    {
      "cell_type": "code",
      "source": [
        "#9.Write a class Fraction with attributes numerator and denominator. Override the str method to display the\n",
        "# fraction as \"numerator/denominator\"\n",
        "class Fraction:\n",
        "    def __init__(self, numerator, denominator):\n",
        "        self.numerator = numerator\n",
        "        self.denominator = denominator\n",
        "    def __str__(self):\n",
        "        return f\"{self.numerator}/{self.denominator}\"\n",
        "fraction1 = Fraction(3, 4)\n",
        "fraction2 = Fraction(5, 8)\n",
        "print(fraction1)  # Output: 3/4\n",
        "print(fraction2)  # Output: 5/8"
      ],
      "metadata": {
        "colab": {
          "base_uri": "https://localhost:8080/"
        },
        "id": "KTFB-lvBC7oD",
        "outputId": "63174101-fd04-462e-bca1-403b41f900de"
      },
      "execution_count": 39,
      "outputs": [
        {
          "output_type": "stream",
          "name": "stdout",
          "text": [
            "3/4\n",
            "5/8\n"
          ]
        }
      ]
    },
    {
      "cell_type": "code",
      "source": [
        "#10.Demonstrate operator overloading by creating a class Vector and overriding the add method to add two\n",
        "# vectors\n",
        "class Vector:\n",
        "    def __init__(self, x, y):\n",
        "        self.x = x\n",
        "        self.y = y\n",
        "    def __add__(self, other):\n",
        "        if not isinstance(other, Vector):\n",
        "            raise TypeError('Operand must be of type Vector')\n",
        "        return Vector(self.x + other.x, self.y + other.y)\n",
        "    def __repr__(self):\n",
        "        return f'Vector({self.x}, {self.y})'\n",
        "v1 = Vector(2, 3)\n",
        "v2 = Vector(4, 5)\n",
        "v3 = v1 + v2\n",
        "print(v1)  # Output: Vector(2, 3)\n",
        "print(v2)  # Output: Vector(4, 5)\n",
        "print(v3)  # Output: Vector(6, 8)\n"
      ],
      "metadata": {
        "colab": {
          "base_uri": "https://localhost:8080/"
        },
        "id": "40evjiVqDSmT",
        "outputId": "4beb603a-9065-4142-cfcf-0123100b05e1"
      },
      "execution_count": 40,
      "outputs": [
        {
          "output_type": "stream",
          "name": "stdout",
          "text": [
            "Vector(2, 3)\n",
            "Vector(4, 5)\n",
            "Vector(6, 8)\n"
          ]
        }
      ]
    },
    {
      "cell_type": "code",
      "source": [
        "#11.Create a class Person with attributes name and age. Add a method greet() that prints \"Hello, my name is\n",
        "# {name} and I am {age} years old\n",
        "class Person:\n",
        "    def __init__(self, name, age):\n",
        "        self.name = name\n",
        "        self.age = age\n",
        "    def greet(self):\n",
        "        print(f\"Hello, my name is {self.name} and I am {self.age} years old.\")\n",
        "person1 = Person(\"Alice\", 30)\n",
        "person1.greet()"
      ],
      "metadata": {
        "colab": {
          "base_uri": "https://localhost:8080/"
        },
        "id": "xTOSsR-CDzhk",
        "outputId": "1a983424-e442-4cde-b934-7a935ec9a87c"
      },
      "execution_count": 41,
      "outputs": [
        {
          "output_type": "stream",
          "name": "stdout",
          "text": [
            "Hello, my name is Alice and I am 30 years old.\n"
          ]
        }
      ]
    },
    {
      "cell_type": "code",
      "source": [
        "#12.Implement a class Student with attributes name and grades. Create a method average_grade() to compute\n",
        "# the average of the grades\n",
        "class Student:\n",
        "    def __init__(self, name, grades):\n",
        "        self.name = name\n",
        "        self.grades = grades\n",
        "    def average_grade(self):\n",
        "        if not self.grades:\n",
        "            return 0\n",
        "        return sum(self.grades) / len(self.grades)\n",
        "student1 = Student(\"Bob\", [85, 90, 78, 92])\n",
        "avg = student1.average_grade()\n",
        "print(f\"Average grade of {student1.name}: {avg}\")"
      ],
      "metadata": {
        "colab": {
          "base_uri": "https://localhost:8080/"
        },
        "id": "40pGMhb-EQ77",
        "outputId": "414f00f8-653a-4638-aac3-ca7f1740b6bf"
      },
      "execution_count": 42,
      "outputs": [
        {
          "output_type": "stream",
          "name": "stdout",
          "text": [
            "Average grade of Bob: 86.25\n"
          ]
        }
      ]
    },
    {
      "cell_type": "code",
      "source": [
        "#13.Create a class Rectangle with methods set_dimensions() to set the dimensions and area() to calculate the\n",
        "# area\n",
        "class Rectangle:\n",
        "    def __init__(self):\n",
        "        self.length = 0\n",
        "        self.width = 0\n",
        "    def set_dimensions(self, length, width):\n",
        "        self.length = length\n",
        "        self.width = width\n",
        "\n",
        "    def area(self):\n",
        "        return self.length * self.width\n",
        "rect = Rectangle()\n",
        "rect.set_dimensions(5, 4)\n",
        "area = rect.area()\n",
        "print(f\"Area of the rectangle: {area}\")\n"
      ],
      "metadata": {
        "colab": {
          "base_uri": "https://localhost:8080/"
        },
        "id": "RfgBosfJEvea",
        "outputId": "0ce333c4-f113-4d07-c04e-99e1ccf0ef76"
      },
      "execution_count": 43,
      "outputs": [
        {
          "output_type": "stream",
          "name": "stdout",
          "text": [
            "Area of the rectangle: 20\n"
          ]
        }
      ]
    },
    {
      "cell_type": "code",
      "source": [
        "#14.Create a class Employee with a method calculate_salary() that computes the salary based on hours worked\n",
        "# and hourly rate. Create a derived class Manager that adds a bonus to the salary\n",
        "class Employee:\n",
        "    def __init__(self, name, rate):\n",
        "        self.name = name\n",
        "        self.rate = rate\n",
        "    def salary(self, hours):\n",
        "        return self.rate * hours\n",
        "class Manager(Employee):\n",
        "    def __init__(self, name, rate, bonus):\n",
        "        super().__init__(name, rate)\n",
        "        self.bonus = bonus\n",
        "    def salary(self, hours):\n",
        "        return super().salary(hours) + self.bonus\n",
        "emp = Employee(\"John\", 20)\n",
        "print(emp.salary(40))\n",
        "mgr = Manager(\"Alice\", 30, 500)\n",
        "print(mgr.salary(40))\n"
      ],
      "metadata": {
        "colab": {
          "base_uri": "https://localhost:8080/"
        },
        "id": "lVGc5JE9FUKB",
        "outputId": "ec17d23d-fb9f-43f4-c115-989fbd3a8a8b"
      },
      "execution_count": 48,
      "outputs": [
        {
          "output_type": "stream",
          "name": "stdout",
          "text": [
            "800\n",
            "1700\n"
          ]
        }
      ]
    },
    {
      "cell_type": "code",
      "source": [
        "#15.Create a class Product with attributes name, price, and quantity. Implement a method total_price() that\n",
        "# calculates the total price of the product\n",
        "class Employee:\n",
        "    def __init__(self, name, rate):\n",
        "        self.name = name\n",
        "        self.rate = rate\n",
        "    def salary(self, hours):\n",
        "        return self.rate * hours\n",
        "class Manager(Employee):\n",
        "    def __init__(self, name, rate, bonus):\n",
        "        super().__init__(name, rate)\n",
        "        self.bonus = bonus\n",
        "    def salary(self, hours):\n",
        "        return super().salary(hours) + self.bonus\n",
        "class Product:\n",
        "    def __init__(self, name, price, quantity):\n",
        "        self.name = name\n",
        "        self.price = price\n",
        "        self.quantity = quantity\n",
        "    def total(self):\n",
        "        return self.price * self.quantity\n",
        "emp = Employee(\"John\", 20)\n",
        "print(emp.salary(40))\n",
        "mgr = Manager(\"Alice\", 30, 500)\n",
        "print(mgr.salary(40))\n",
        "prod = Product(\"Laptop\", 1000, 3)\n",
        "print(prod.total())\n",
        "\n"
      ],
      "metadata": {
        "colab": {
          "base_uri": "https://localhost:8080/"
        },
        "id": "_lVPxWMIGDkn",
        "outputId": "612a0c01-0000-4453-f631-dc89527b6072"
      },
      "execution_count": 49,
      "outputs": [
        {
          "output_type": "stream",
          "name": "stdout",
          "text": [
            "800\n",
            "1700\n",
            "3000\n"
          ]
        }
      ]
    },
    {
      "cell_type": "code",
      "source": [
        "#16.Create a class Animal with an abstract method sound(). Create two derived classes Cow and Sheep that\n",
        "# implement the sound() method\n",
        "class Animal:\n",
        "    def sound(self):\n",
        "        pass\n",
        "class Cow(Animal):\n",
        "    def sound(self):\n",
        "        return \"Moo\"\n",
        "class Sheep(Animal):\n",
        "    def sound(self):\n",
        "        return \"Baa\"\n",
        "cow = Cow()\n",
        "sheep = Sheep()\n",
        "print(cow.sound())\n",
        "print(sheep.sound())\n"
      ],
      "metadata": {
        "colab": {
          "base_uri": "https://localhost:8080/"
        },
        "id": "zCulJYJvGTHd",
        "outputId": "124c76f0-d26d-4b91-9b59-168f850e0789"
      },
      "execution_count": 47,
      "outputs": [
        {
          "output_type": "stream",
          "name": "stdout",
          "text": [
            "Moo\n",
            "Baa\n"
          ]
        }
      ]
    },
    {
      "cell_type": "code",
      "source": [
        "#17.Create a class Book with attributes title, author, and year_published. Add a method get_book_info() that\n",
        "# returns a formatted string with the book's details\n",
        "class Employee:\n",
        "    def __init__(self, name, rate):\n",
        "        self.name = name\n",
        "        self.rate = rate\n",
        "    def salary(self, hours):\n",
        "        return self.rate * hours\n",
        "class Manager(Employee):\n",
        "    def __init__(self, name, rate, bonus):\n",
        "        super().__init__(name, rate)\n",
        "        self.bonus = bonus\n",
        "    def salary(self, hours):\n",
        "        return super().salary(hours) + self.bonus\n",
        "class Product:\n",
        "    def __init__(self, name, price, qty):\n",
        "        self.name = name\n",
        "        self.price = price\n",
        "        self.qty = qty\n",
        "    def total(self):\n",
        "        return self.price * self.qty\n",
        "class Book:\n",
        "    def __init__(self, title, author, year):\n",
        "        self.title = title\n",
        "        self.author = author\n",
        "        self.year = year\n",
        "    def info(self):\n",
        "        return f'{self.title} by {self.author}, {self.year}'\n",
        "emp = Employee('John', 20)\n",
        "print(emp.salary(40))\n",
        "mgr = Manager('Alice', 30, 500)\n",
        "print(mgr.salary(40))\n",
        "prod = Product('Laptop', 1000, 3)\n",
        "print(prod.total())\n",
        "book = Book('1984', 'George Orwell', 1949)\n",
        "print(book.info())\n"
      ],
      "metadata": {
        "colab": {
          "base_uri": "https://localhost:8080/"
        },
        "id": "bw1yBdAiHJ0f",
        "outputId": "27a80e29-88e9-45af-c457-12566b554b29"
      },
      "execution_count": 50,
      "outputs": [
        {
          "output_type": "stream",
          "name": "stdout",
          "text": [
            "800\n",
            "1700\n",
            "3000\n",
            "1984 by George Orwell, 1949\n"
          ]
        }
      ]
    },
    {
      "cell_type": "code",
      "source": [
        "#18.Create a class House with attributes address and price. Create a derived class Mansion that adds an\n",
        "# attribute number_of_rooms\n",
        "class Employee:\n",
        "    def __init__(self, name, rate): self.name, self.rate = name, rate\n",
        "    def salary(self, hours): return self.rate * hours\n",
        "class Manager(Employee):\n",
        "    def __init__(self, name, rate, bonus): super().__init__(name, rate); self.bonus = bonus\n",
        "    def salary(self, hours): return super().salary(hours) + self.bonus\n",
        "class Product:\n",
        "    def __init__(self, name, price, qty): self.name, self.price, self.qty = name, price, qty\n",
        "    def total(self): return self.price * self.qty\n",
        "class Book:\n",
        "    def __init__(self, title, author, year): self.title, self.author, self.year = title, author, year\n",
        "    def info(self): return f'{self.title} by {self.author}, {self.year}'\n",
        "class House:\n",
        "    def __init__(self, address, price): self.address, self.price = address, price\n",
        "class Mansion(House):\n",
        "    def __init__(self, address, price, rooms): super().__init__(address, price); self.rooms = rooms\n",
        "emp = Employee('John', 20)\n",
        "print(emp.salary(40))\n",
        "mgr = Manager('Alice', 30, 500)\n",
        "print(mgr.salary(40))\n",
        "prod = Product('Laptop', 1000, 3)\n",
        "print(prod.total())\n",
        "book = Book('1984', 'George Orwell', 1949)\n",
        "print(book.info())\n",
        "mansion = Mansion('456 Avenue', 1500000, 10)\n",
        "print(mansion.address, mansion.price, mansion.rooms)\n"
      ],
      "metadata": {
        "colab": {
          "base_uri": "https://localhost:8080/"
        },
        "id": "SIoK1ajNHZqv",
        "outputId": "738ab3b1-20f8-41fb-ae9a-09e323106a97"
      },
      "execution_count": 51,
      "outputs": [
        {
          "output_type": "stream",
          "name": "stdout",
          "text": [
            "800\n",
            "1700\n",
            "3000\n",
            "1984 by George Orwell, 1949\n",
            "456 Avenue 1500000 10\n"
          ]
        }
      ]
    }
  ]
}